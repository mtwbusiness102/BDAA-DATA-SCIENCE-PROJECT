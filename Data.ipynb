{
 "cells": [
  {
   "cell_type": "code",
   "execution_count": 4,
   "metadata": {},
   "outputs": [],
   "source": [
    "\n",
    "# import pandas as pd\n",
    "# import numpy as np\n",
    "# import matplotlib.pyplot as plt\n",
    "# import seaborn as sb \n",
    "# import plotly.express as px \n",
    "# import folium \n",
    "\n",
    "import pandas as pd\n",
    "\n",
    "df = pd.read_csv('Latest_Data_Breahces.csv')\n",
    "\n",
    "# Data Loading / Inspection \n",
    "    # import pandas as pd \n",
    "    # df.info() - Get column names, data types, and missing values \n",
    "    # df.head() - Show first 5 rows\n",
    "    # df.describe() - Get summary statistics\n",
    "    \n",
    "    # hello\n",
    "\n",
    "\n"
   ]
  }
 ],
 "metadata": {
  "kernelspec": {
   "display_name": "Python 3",
   "language": "python",
   "name": "python3"
  },
  "language_info": {
   "codemirror_mode": {
    "name": "ipython",
    "version": 3
   },
   "file_extension": ".py",
   "mimetype": "text/x-python",
   "name": "python",
   "nbconvert_exporter": "python",
   "pygments_lexer": "ipython3",
   "version": "3.13.1"
  }
 },
 "nbformat": 4,
 "nbformat_minor": 2
}
